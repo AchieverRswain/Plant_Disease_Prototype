{
 "cells": [
  {
   "cell_type": "code",
   "execution_count": 16,
   "id": "07598060-feea-4587-b38c-3fe08071aa4d",
   "metadata": {},
   "outputs": [],
   "source": [
    "import numpy as np \n",
    "import pandas as pd\n",
    "import cv2\n",
    "import os\n",
    "import datetime"
   ]
  },
  {
   "cell_type": "code",
   "execution_count": null,
   "id": "8796c40f-e3c0-48da-80ee-833a8b562416",
   "metadata": {},
   "outputs": [],
   "source": [
    "! pip install tensorflow "
   ]
  },
  {
   "cell_type": "code",
   "execution_count": 13,
   "id": "1a6319ba-4fd9-4b11-a218-42da94cea083",
   "metadata": {},
   "outputs": [],
   "source": [
    "import tensorflow as tf "
   ]
  },
  {
   "cell_type": "code",
   "execution_count": 18,
   "id": "3ba43b75-a509-420f-aaa6-09b218551e83",
   "metadata": {},
   "outputs": [
    {
     "name": "stdout",
     "output_type": "stream",
     "text": [
      "Press 's' to capture an image and save it. Press 'q' to quit.\n"
     ]
    }
   ],
   "source": [
    "\n",
    "# Create a directory to store images if it doesn't exist\n",
    "output_dir = \"captured_images\"\n",
    "if not os.path.exists(output_dir):\n",
    "    os.makedirs(output_dir)\n",
    "    \n",
    "# Function to detect blur using the variance of the Laplacian\n",
    "def is_blurry(image, threshold=100.0):\n",
    "    gray = cv2.cvtColor(image, cv2.COLOR_BGR2GRAY)\n",
    "    laplacian_var = cv2.Laplacian(gray, cv2.CV_64F).var()\n",
    "    return laplacian_var < threshold\n",
    "\n",
    "# Function to sharpen the image if it's blurry\n",
    "def sharpen_image(image):\n",
    "    # Kernel for sharpening\n",
    "    kernel = np.array([[0, -1, 0], \n",
    "                       [-1, 5,-1], \n",
    "                       [0, -1, 0]])\n",
    "    sharpened = cv2.filter2D(image, -1, kernel)\n",
    "    return sharpened\n",
    "\n",
    "# Function to improve contrast and brightness\n",
    "def enhance_image(image):\n",
    "    # Convert to LAB color space for better contrast adjustment\n",
    "    lab = cv2.cvtColor(image, cv2.COLOR_BGR2LAB)\n",
    "    l, a, b = cv2.split(lab)\n",
    "    \n",
    "    # Apply CLAHE (Contrast Limited Adaptive Histogram Equalization)\n",
    "    clahe = cv2.createCLAHE(clipLimit=2.0, tileGridSize=(8,8))\n",
    "    l = clahe.apply(l)\n",
    "    \n",
    "    # Merge and convert back to BGR\n",
    "    enhanced = cv2.merge((l, a, b))\n",
    "    enhanced = cv2.cvtColor(enhanced, cv2.COLOR_LAB2BGR)\n",
    "    \n",
    "    return enhanced\n",
    "\n",
    "# Start the video capture from the webcam (0 is the default camera)\n",
    "cap = cv2.VideoCapture(0)\n",
    "\n",
    "if not cap.isOpened():\n",
    "    print(\"Error: Could not open video stream.\")\n",
    "    exit()\n",
    "\n",
    "print(\"Press 's' to capture an image and save it. Press 'q' to quit.\")\n",
    "\n",
    "while True:\n",
    "    # Capture frame-by-frame\n",
    "    ret, frame = cap.read()\n",
    "    \n",
    "    # If frame is read correctly, ret will be True\n",
    "    if not ret:\n",
    "        print(\"Error: Failed to capture image.\")\n",
    "        break\n",
    "\n",
    "    # Display the frame in a window\n",
    "    cv2.imshow('Live Video Feed - Press \"S\" to capture', frame)\n",
    "\n",
    "    # Wait for a key press\n",
    "    key = cv2.waitKey(1)\n",
    "\n",
    "    # Press 's' to save the image\n",
    "    if key == ord('s'):\n",
    "        # Generate a filename using current date and time\n",
    "        filename = os.path.join(output_dir, f\"image_{datetime.datetime.now().strftime('%Y%m%d_%H%M%S')}.jpg\")\n",
    "        \n",
    "        # Save the captured image\n",
    "        cv2.imwrite(filename, frame)\n",
    "        print(f\"Image saved as {filename}\")\n",
    "\n",
    "    # Press 'q' to quit the application\n",
    "    if key == ord('q'):\n",
    "        break\n",
    "\n",
    "# Release the webcam and close windows\n",
    "cap.release()\n",
    "cv2.destroyAllWindows()\n"
   ]
  },
  {
   "cell_type": "code",
   "execution_count": null,
   "id": "8645fae2-05e8-4799-82b3-966fb3b38b6e",
   "metadata": {},
   "outputs": [],
   "source": []
  },
  {
   "cell_type": "code",
   "execution_count": null,
   "id": "bd4eba96-db05-485c-a99b-5edf452fb89f",
   "metadata": {},
   "outputs": [],
   "source": []
  }
 ],
 "metadata": {
  "kernelspec": {
   "display_name": "Python 3 (ipykernel)",
   "language": "python",
   "name": "python3"
  },
  "language_info": {
   "codemirror_mode": {
    "name": "ipython",
    "version": 3
   },
   "file_extension": ".py",
   "mimetype": "text/x-python",
   "name": "python",
   "nbconvert_exporter": "python",
   "pygments_lexer": "ipython3",
   "version": "3.12.4"
  }
 },
 "nbformat": 4,
 "nbformat_minor": 5
}
